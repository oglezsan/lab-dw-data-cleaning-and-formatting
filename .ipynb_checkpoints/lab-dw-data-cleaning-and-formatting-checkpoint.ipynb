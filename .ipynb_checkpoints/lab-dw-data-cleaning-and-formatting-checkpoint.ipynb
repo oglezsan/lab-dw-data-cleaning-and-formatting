{
 "cells": [
  {
   "cell_type": "markdown",
   "id": "25d7736c-ba17-4aff-b6bb-66eba20fbf4e",
   "metadata": {
    "id": "25d7736c-ba17-4aff-b6bb-66eba20fbf4e"
   },
   "source": [
    "# Lab | Data Cleaning and Formatting"
   ]
  },
  {
   "cell_type": "markdown",
   "id": "d1973e9e-8be6-4039-b70e-d73ee0d94c99",
   "metadata": {
    "id": "d1973e9e-8be6-4039-b70e-d73ee0d94c99"
   },
   "source": [
    "In this lab, we will be working with the customer data from an insurance company, which can be found in the CSV file located at the following link: https://raw.githubusercontent.com/data-bootcamp-v4/data/main/file1.csv\n"
   ]
  },
  {
   "cell_type": "markdown",
   "id": "31b8a9e7-7db9-4604-991b-ef6771603e57",
   "metadata": {
    "id": "31b8a9e7-7db9-4604-991b-ef6771603e57"
   },
   "source": [
    "# Challenge 1: Data Cleaning and Formatting"
   ]
  },
  {
   "cell_type": "markdown",
   "id": "81553f19-9f2c-484b-8940-520aff884022",
   "metadata": {
    "id": "81553f19-9f2c-484b-8940-520aff884022"
   },
   "source": [
    "## Exercise 1: Cleaning Column Names"
   ]
  },
  {
   "cell_type": "markdown",
   "id": "34a929f4-1be4-4fa8-adda-42ffd920be90",
   "metadata": {
    "id": "34a929f4-1be4-4fa8-adda-42ffd920be90"
   },
   "source": [
    "To ensure consistency and ease of use, standardize the column names of the dataframe. Start by taking a first look at the dataframe and identifying any column names that need to be modified. Use appropriate naming conventions and make sure that column names are descriptive and informative.\n",
    "\n",
    "*Hint*:\n",
    "- *Column names should be in lower case*\n",
    "- *White spaces in column names should be replaced by `_`*\n",
    "- *`st` could be replaced for `state`*"
   ]
  },
  {
   "cell_type": "code",
   "execution_count": null,
   "id": "5810735c-8056-4442-bbf2-dda38d3e284a",
   "metadata": {
    "id": "5810735c-8056-4442-bbf2-dda38d3e284a",
    "tags": []
   },
   "outputs": [],
   "source": [
    "import pandas as pd\n",
    "url = \"https://raw.githubusercontent.com/data-bootcamp-v4/data/main/file1.csv\"\n",
    "df = pd.read_csv(url)\n",
    "print()\n",
    "df.columns = map(str.lower, df.columns)\n",
    "df.columns = [c.replace(\" \", \"_\") for c in list(df.columns)]\n",
    "df.rename(columns={'st':'state'}, inplace=True)\n",
    "df"
   ]
  },
  {
   "cell_type": "markdown",
   "id": "9cb501ec-36ff-4589-b872-6252bb150316",
   "metadata": {
    "id": "9cb501ec-36ff-4589-b872-6252bb150316"
   },
   "source": [
    "## Exercise 2: Cleaning invalid Values"
   ]
  },
  {
   "cell_type": "markdown",
   "id": "771fdcf3-8e20-4b06-9c24-3a93ba2b0909",
   "metadata": {
    "id": "771fdcf3-8e20-4b06-9c24-3a93ba2b0909"
   },
   "source": [
    "The dataset contains columns with inconsistent and incorrect values that could affect the accuracy of our analysis. Therefore, we need to clean these columns to ensure that they only contain valid data.\n",
    "\n",
    "Note that this exercise will focus only on cleaning inconsistent values and will not involve handling null values (NaN or None).\n",
    "\n",
    "*Hint*:\n",
    "- *Gender column contains various inconsistent values such as \"F\", \"M\", \"Femal\", \"Male\", \"female\", which need to be standardized, for example, to \"M\" and \"F\".*\n",
    "- *State abbreviations be can replaced with its full name, for example \"AZ\": \"Arizona\", \"Cali\": \"California\", \"WA\": \"Washington\"*\n",
    "- *In education, \"Bachelors\" could be replaced by \"Bachelor\"*\n",
    "- *In Customer Lifetime Value, delete the `%` character*\n",
    "- *In vehicle class, \"Sports Car\", \"Luxury SUV\" and \"Luxury Car\" could be replaced by \"Luxury\"*"
   ]
  },
  {
   "cell_type": "code",
   "execution_count": null,
   "id": "3f8ee5cb-50ab-48af-8a9f-9a389804033c",
   "metadata": {
    "id": "3f8ee5cb-50ab-48af-8a9f-9a389804033c",
    "tags": []
   },
   "outputs": [],
   "source": [
    "#array([nan, 'F', 'M', 'Femal', 'Male', 'female'], dtype=object)\n",
    "print(df.gender.unique())\n",
    "replace_gender = {\n",
    "    \"Femal\": \"F\",\n",
    "    \"female\": \"F\",\n",
    "    \"Male\": \"M\"\n",
    "}\n",
    "        \n",
    "df['gender'] = df[\"gender\"].replace(replace_gender)\n",
    "\n",
    "print()\n",
    "print(df.state.unique())\n",
    "replace_state = {\n",
    "    \"AZ\": \"Arizona\",\n",
    "    \"Cali\": \"California\",\n",
    "    \"WA\": \"Washington\"\n",
    "}\n",
    "df['state'] = df[\"state\"].replace(replace_state)\n",
    "\n",
    "df[\"education\"] = df[\"education\"].replace(\"Bachelors\",\"Bachelor\")\n",
    "\n",
    "df[\"customer_lifetime_value\"] = df[\"customer_lifetime_value\"].str.rstrip(\"%\")\n",
    "\n",
    "replace_car = {\n",
    "    \"Sports Car\": \"Luxury\",\n",
    "    \"Luxury SUV\": \"Luxury\",\n",
    "    \"Luxury Car\": \"Luxury\"\n",
    "}\n",
    "        \n",
    "df['vehicle_class'] = df[\"vehicle_class\"].replace(replace_car)\n",
    "\n",
    "df"
   ]
  },
  {
   "cell_type": "markdown",
   "id": "85ff78ce-0174-4890-9db3-8048b7d7d2d0",
   "metadata": {
    "id": "85ff78ce-0174-4890-9db3-8048b7d7d2d0"
   },
   "source": [
    "## Exercise 3: Formatting data types"
   ]
  },
  {
   "cell_type": "markdown",
   "id": "b91c2cf8-79a2-4baf-9f65-ff2fb22270bd",
   "metadata": {
    "id": "b91c2cf8-79a2-4baf-9f65-ff2fb22270bd"
   },
   "source": [
    "The data types of many columns in the dataset appear to be incorrect. This could impact the accuracy of our analysis. To ensure accurate analysis, we need to correct the data types of these columns. Please update the data types of the columns as appropriate."
   ]
  },
  {
   "cell_type": "markdown",
   "id": "43e5d853-ff9e-43b2-9d92-aef2f78764f3",
   "metadata": {
    "id": "43e5d853-ff9e-43b2-9d92-aef2f78764f3"
   },
   "source": [
    "It is important to note that this exercise does not involve handling null values (NaN or None)."
   ]
  },
  {
   "cell_type": "markdown",
   "id": "329ca691-9196-4419-8969-3596746237a1",
   "metadata": {
    "id": "329ca691-9196-4419-8969-3596746237a1"
   },
   "source": [
    "*Hint*:\n",
    "- *Customer lifetime value should be numeric*\n",
    "- *Number of open complaints has an incorrect format. Look at the different values it takes with `unique()` and take the middle value. As an example, 1/5/00 should be 5. Number of open complaints is a string - remember you can use `split()` to deal with it and take the number you need. Finally, since it should be numeric, cast the column to be in its proper type.*"
   ]
  },
  {
   "cell_type": "code",
   "execution_count": null,
   "id": "eb8f5991-73e9-405f-bf1c-6b7c589379a9",
   "metadata": {
    "id": "eb8f5991-73e9-405f-bf1c-6b7c589379a9",
    "tags": []
   },
   "outputs": [],
   "source": [
    "df[\"customer_lifetime_value\"] = pd.to_numeric(df[\"customer_lifetime_value\"])\n",
    "print (df.customer_lifetime_value)\n",
    "print()\n",
    "\n",
    "print(df['number_of_open_complaints'].unique())\n",
    "\n",
    "df['number_of_open_complaints'] = df['number_of_open_complaints'].apply(lambda x: x.split('/')[1] if isinstance(x, str) else x)\n",
    "df['number_of_open_complaints'] = pd.to_numeric(df['number_of_open_complaints'])\n",
    "df"
   ]
  },
  {
   "cell_type": "markdown",
   "id": "14c52e28-2d0c-4dd2-8bd5-3476e34fadc1",
   "metadata": {
    "id": "14c52e28-2d0c-4dd2-8bd5-3476e34fadc1"
   },
   "source": [
    "## Exercise 4: Dealing with Null values"
   ]
  },
  {
   "cell_type": "markdown",
   "id": "34b9a20f-7d32-4417-975e-1b4dfb0e16cd",
   "metadata": {
    "id": "34b9a20f-7d32-4417-975e-1b4dfb0e16cd"
   },
   "source": [
    "Identify any columns with null or missing values. Identify how many null values each column has. You can use the `isnull()` function in pandas to find columns with null values.\n",
    "\n",
    "Decide on a strategy for handling the null values. There are several options, including:\n",
    "\n",
    "- Drop the rows or columns with null values\n",
    "- Fill the null values with a specific value (such as the column mean or median for numerical variables, and mode for categorical variables)\n",
    "- Fill the null values with the previous or next value in the column\n",
    "- Fill the null values based on a more complex algorithm or model (note: we haven't covered this yet)\n",
    "\n",
    "Implement your chosen strategy to handle the null values. You can use the `fillna()` function in pandas to fill null values or `dropna()` function to drop null values.\n",
    "\n",
    "Verify that your strategy has successfully handled the null values. You can use the `isnull()` function again to check if there are still null values in the dataset.\n",
    "\n",
    "Remember to document your process and explain your reasoning for choosing a particular strategy for handling null values.\n",
    "\n",
    "After formatting data types, as a last step, convert all the numeric variables to integers."
   ]
  },
  {
   "cell_type": "code",
   "execution_count": null,
   "id": "f184fc35-7831-4836-a0a5-e7f99e01b40e",
   "metadata": {
    "id": "f184fc35-7831-4836-a0a5-e7f99e01b40e",
    "tags": []
   },
   "outputs": [],
   "source": [
    "#no columns with no values:\n",
    "print(df.isna().any())\n",
    "print(\"---\")\n",
    "\n",
    "print(df.isnull().sum(axis=1))\n",
    "print(\"---\")\n",
    "\n",
    "\n",
    "df2 = df.dropna()\n",
    "# df2\n",
    "# df2.iloc[1189:1199]\n",
    "# I removed the strings full of NaN values since they miss the info in every column. Checking if data type is correct:\n",
    "df = df2\n",
    "print(df.info())\n",
    "\n",
    "\n"
   ]
  },
  {
   "cell_type": "markdown",
   "id": "98416351-e999-4156-9834-9b00a311adfa",
   "metadata": {
    "id": "98416351-e999-4156-9834-9b00a311adfa"
   },
   "source": [
    "## Exercise 5: Dealing with duplicates"
   ]
  },
  {
   "cell_type": "markdown",
   "id": "ea0816a7-a18e-4d4c-b667-a8452a800bd1",
   "metadata": {
    "id": "ea0816a7-a18e-4d4c-b667-a8452a800bd1"
   },
   "source": [
    "Use the `.duplicated()` method to identify any duplicate rows in the dataframe.\n",
    "\n",
    "Decide on a strategy for handling the duplicates. Options include:\n",
    "- Dropping all duplicate rows\n",
    "- Keeping only the first occurrence of each duplicated row\n",
    "- Keeping only the last occurrence of each duplicated row\n",
    "- Dropping duplicates based on a subset of columns\n",
    "- Dropping duplicates based on a specific column\n",
    "\n",
    "Implement your chosen strategy using the `drop_duplicates()` function.\n",
    "\n",
    "Verify that your strategy has successfully handled the duplicates by checking for duplicates again using `.duplicated()`.\n",
    "\n",
    "Remember to document your process and explain your reasoning for choosing a particular strategy for handling duplicates.\n",
    "\n",
    "Save the cleaned dataset to a new CSV file.\n",
    "\n",
    "*Hint*: *after dropping duplicates, reset the index to ensure consistency*."
   ]
  },
  {
   "cell_type": "code",
   "execution_count": null,
   "id": "1929362c-47ed-47cb-baca-358b78d401a0",
   "metadata": {
    "id": "1929362c-47ed-47cb-baca-358b78d401a0",
    "tags": []
   },
   "outputs": [],
   "source": [
    "print(df)\n",
    "df.duplicated(keep=False)\n",
    "#there is not duplicated rows identified\n",
    "df.reset_index()"
   ]
  },
  {
   "cell_type": "markdown",
   "id": "60840701-4783-40e2-b4d8-55303f9100c9",
   "metadata": {
    "id": "60840701-4783-40e2-b4d8-55303f9100c9"
   },
   "source": [
    "# Bonus: Challenge 2: creating functions on a separate `py` file"
   ]
  },
  {
   "cell_type": "markdown",
   "id": "9d1adb3a-17cf-4899-8041-da21a4337fb4",
   "metadata": {
    "id": "9d1adb3a-17cf-4899-8041-da21a4337fb4"
   },
   "source": [
    "Put all the data cleaning and formatting steps into functions, and create a main function that performs all the cleaning and formatting.\n",
    "\n",
    "Write these functions in separate .py file(s). By putting these steps into functions, we can make the code more modular and easier to maintain."
   ]
  },
  {
   "cell_type": "markdown",
   "id": "0e170dc2-b62c-417a-8248-e63ed18a70c4",
   "metadata": {
    "id": "0e170dc2-b62c-417a-8248-e63ed18a70c4"
   },
   "source": [
    "*Hint: autoreload module is a utility module in Python that allows you to automatically reload modules in the current session when changes are made to the source code. This can be useful in situations where you are actively developing code and want to see the effects of changes you make without having to constantly restart the Python interpreter or Jupyter Notebook kernel.*"
   ]
  },
  {
   "cell_type": "code",
   "execution_count": 1,
   "id": "a52c6dfc-cd11-4d01-bda4-f719fa33e9a4",
   "metadata": {
    "id": "a52c6dfc-cd11-4d01-bda4-f719fa33e9a4",
    "tags": []
   },
   "outputs": [
    {
     "name": "stdout",
     "output_type": "stream",
     "text": [
      "customer                     True\n",
      "state                        True\n",
      "gender                       True\n",
      "education                    True\n",
      "customer_lifetime_value      True\n",
      "income                       True\n",
      "monthly_premium_auto         True\n",
      "number_of_open_complaints    True\n",
      "policy_type                  True\n",
      "vehicle_class                True\n",
      "total_claim_amount           True\n",
      "dtype: bool\n",
      "0        2\n",
      "1        0\n",
      "2        0\n",
      "3        0\n",
      "4        0\n",
      "        ..\n",
      "4003    11\n",
      "4004    11\n",
      "4005    11\n",
      "4006    11\n",
      "4007    11\n",
      "Length: 4008, dtype: int64\n",
      "<class 'pandas.core.frame.DataFrame'>\n",
      "Index: 952 entries, 1 to 1070\n",
      "Data columns (total 11 columns):\n",
      " #   Column                     Non-Null Count  Dtype  \n",
      "---  ------                     --------------  -----  \n",
      " 0   customer                   952 non-null    object \n",
      " 1   state                      952 non-null    object \n",
      " 2   gender                     952 non-null    object \n",
      " 3   education                  952 non-null    object \n",
      " 4   customer_lifetime_value    952 non-null    float64\n",
      " 5   income                     952 non-null    float64\n",
      " 6   monthly_premium_auto       952 non-null    float64\n",
      " 7   number_of_open_complaints  952 non-null    float64\n",
      " 8   policy_type                952 non-null    object \n",
      " 9   vehicle_class              952 non-null    object \n",
      " 10  total_claim_amount         952 non-null    float64\n",
      "dtypes: float64(5), object(6)\n",
      "memory usage: 89.2+ KB\n",
      "None\n",
      "     customer       state gender             education  \\\n",
      "1     QZ44356     Arizona      F              Bachelor   \n",
      "2     AI49188      Nevada      F              Bachelor   \n",
      "3     WW63253  California      M              Bachelor   \n",
      "4     GA49547  Washington      M  High School or Below   \n",
      "5     OC83172      Oregon      F              Bachelor   \n",
      "...       ...         ...    ...                   ...   \n",
      "1066  TM65736      Oregon      M                Master   \n",
      "1067  VJ51327  California      F  High School or Below   \n",
      "1068  GS98873     Arizona      F              Bachelor   \n",
      "1069  CW49887  California      F                Master   \n",
      "1070  MY31220  California      F               College   \n",
      "\n",
      "      customer_lifetime_value   income  monthly_premium_auto  \\\n",
      "1                   697953.59      0.0                  94.0   \n",
      "2                  1288743.17  48767.0                 108.0   \n",
      "3                   764586.18      0.0                 106.0   \n",
      "4                   536307.65  36357.0                  68.0   \n",
      "5                   825629.78  62902.0                  69.0   \n",
      "...                       ...      ...                   ...   \n",
      "1066                305955.03  38644.0                  78.0   \n",
      "1067               2031499.76  63209.0                 102.0   \n",
      "1068                323912.47  16061.0                  88.0   \n",
      "1069                462680.11  79487.0                 114.0   \n",
      "1070                899704.02  54230.0                 112.0   \n",
      "\n",
      "      number_of_open_complaints     policy_type  vehicle_class  \\\n",
      "1                           0.0   Personal Auto  Four-Door Car   \n",
      "2                           0.0   Personal Auto   Two-Door Car   \n",
      "3                           0.0  Corporate Auto            SUV   \n",
      "4                           0.0   Personal Auto  Four-Door Car   \n",
      "5                           0.0   Personal Auto   Two-Door Car   \n",
      "...                         ...             ...            ...   \n",
      "1066                        1.0   Personal Auto  Four-Door Car   \n",
      "1067                        2.0   Personal Auto            SUV   \n",
      "1068                        0.0   Personal Auto  Four-Door Car   \n",
      "1069                        0.0    Special Auto            SUV   \n",
      "1070                        0.0   Personal Auto   Two-Door Car   \n",
      "\n",
      "      total_claim_amount  \n",
      "1            1131.464935  \n",
      "2             566.472247  \n",
      "3             529.881344  \n",
      "4              17.269323  \n",
      "5             159.383042  \n",
      "...                  ...  \n",
      "1066          361.455219  \n",
      "1067          207.320041  \n",
      "1068          633.600000  \n",
      "1069          547.200000  \n",
      "1070          537.600000  \n",
      "\n",
      "[952 rows x 11 columns]\n"
     ]
    }
   ],
   "source": [
    "import pandas as pd\n",
    "\n",
    "def load_data(url):\n",
    "    df = pd.read_csv(url)\n",
    "    return df\n",
    "\n",
    "def clean_column_names(df):\n",
    "    df.columns = map(str.lower, df.columns)\n",
    "    df.columns = [c.replace(\" \", \"_\") for c in list(df.columns)]\n",
    "    return df\n",
    "\n",
    "def rename_column(df, old_name, new_name):\n",
    "    df.rename(columns={old_name: new_name}, inplace=True)\n",
    "    return df\n",
    "\n",
    "def clean_gender(df):\n",
    "    replace_gender = {\n",
    "        \"Femal\": \"F\",\n",
    "        \"female\": \"F\",\n",
    "        \"Male\": \"M\"\n",
    "    }\n",
    "    df['gender'] = df[\"gender\"].replace(replace_gender)\n",
    "    return df\n",
    "\n",
    "def clean_state(df):\n",
    "    replace_state = {\n",
    "        \"AZ\": \"Arizona\",\n",
    "        \"Cali\": \"California\",\n",
    "        \"WA\": \"Washington\"\n",
    "    }\n",
    "    df['state'] = df[\"state\"].replace(replace_state)\n",
    "    return df\n",
    "\n",
    "def clean_education(df):\n",
    "    df[\"education\"] = df[\"education\"].replace(\"Bachelors\", \"Bachelor\")\n",
    "    return df\n",
    "\n",
    "def clean_vehicle_class(df):\n",
    "    replace_car = {\n",
    "        \"Sports Car\": \"Luxury\",\n",
    "        \"Luxury SUV\": \"Luxury\",\n",
    "        \"Luxury Car\": \"Luxury\"\n",
    "    }\n",
    "    df['vehicle_class'] = df[\"vehicle_class\"].replace(replace_car)\n",
    "    return df\n",
    "\n",
    "def clean_customer_lifetime_value(df):\n",
    "    df[\"customer_lifetime_value\"] = df[\"customer_lifetime_value\"].str.rstrip(\"%\")\n",
    "    df[\"customer_lifetime_value\"] = pd.to_numeric(df[\"customer_lifetime_value\"])\n",
    "    return df\n",
    "\n",
    "def clean_number_of_open_complaints(df):\n",
    "    df['number_of_open_complaints'] = df['number_of_open_complaints'].apply(lambda x: x.split('/')[1] if isinstance(x, str) else x)\n",
    "    df['number_of_open_complaints'] = pd.to_numeric(df['number_of_open_complaints'])\n",
    "    return df\n",
    "\n",
    "def check_missing_values(df):\n",
    "    print(df.isna().any())\n",
    "    print(df.isnull().sum(axis=1))\n",
    "    return df\n",
    "\n",
    "def drop_missing_values(df):\n",
    "    df = df.dropna()\n",
    "    return df\n",
    "\n",
    "def check_data_info(df):\n",
    "    print(df.info())\n",
    "    return df\n",
    "\n",
    "def main():\n",
    "    url = \"https://raw.githubusercontent.com/data-bootcamp-v4/data/main/file1.csv\"\n",
    "    df = load_data(url)\n",
    "    \n",
    "    df = clean_column_names(df)\n",
    "    df = rename_column(df, 'st', 'state')\n",
    "    df = clean_gender(df)\n",
    "    df = clean_state(df)\n",
    "    df = clean_education(df)\n",
    "    df = clean_vehicle_class(df)\n",
    "    df = clean_customer_lifetime_value(df)\n",
    "    df = clean_number_of_open_complaints(df)\n",
    "    df = check_missing_values(df)\n",
    "    df = drop_missing_values(df)\n",
    "    df = check_data_info(df)\n",
    "\n",
    "    return df\n",
    "\n",
    "if __name__ == \"__main__\":\n",
    "    df = main()\n",
    "    print(df)\n",
    "    df.duplicated(keep=False)\n",
    "    df.reset_index()"
   ]
  },
  {
   "cell_type": "markdown",
   "id": "80f846bb-3f5e-4ca2-96c0-900728daca5a",
   "metadata": {
    "id": "80f846bb-3f5e-4ca2-96c0-900728daca5a",
    "tags": []
   },
   "source": [
    "# Bonus: Challenge 3: Analyzing Clean and Formated Data"
   ]
  },
  {
   "cell_type": "markdown",
   "id": "9021630e-cc90-446c-b5bd-264d6c864207",
   "metadata": {
    "id": "9021630e-cc90-446c-b5bd-264d6c864207"
   },
   "source": [
    "You have been tasked with analyzing the data to identify potential areas for improving customer retention and profitability. Your goal is to identify customers with a high policy claim amount and a low customer lifetime value.\n",
    "\n",
    "In the Pandas Lab, we only looked at high policy claim amounts because we couldn't look into low customer lifetime values. If we had tried to work with that column, we wouldn't have been able to because customer lifetime value wasn't clean and in its proper format. So after cleaning and formatting the data, let's get some more interesting insights!\n",
    "\n",
    "Instructions:\n",
    "\n",
    "- Review the statistics again for total claim amount and customer lifetime value to gain an understanding of the data.\n",
    "- To identify potential areas for improving customer retention and profitability, we want to focus on customers with a high policy claim amount and a low customer lifetime value. Consider customers with a high policy claim amount to be those in the top 25% of the total claim amount, and clients with a low customer lifetime value to be those in the bottom 25% of the customer lifetime value. Create a pandas DataFrame object that contains information about customers with a policy claim amount greater than the 75th percentile and a customer lifetime value in the bottom 25th percentile.\n",
    "- Use DataFrame methods to calculate summary statistics about the high policy claim amount and low customer lifetime value data. To do so, select both columns of the dataframe simultaneously and pass it to the `.describe()` method. This will give you descriptive statistics, such as mean, median, standard deviation, minimum and maximum values for both columns at the same time, allowing you to compare and analyze their characteristics."
   ]
  },
  {
   "cell_type": "code",
   "execution_count": 3,
   "id": "211e82b5-461a-4d6f-8a23-4deccb84173c",
   "metadata": {
    "id": "211e82b5-461a-4d6f-8a23-4deccb84173c",
    "tags": []
   },
   "outputs": [
    {
     "data": {
      "text/html": [
       "<div>\n",
       "<style scoped>\n",
       "    .dataframe tbody tr th:only-of-type {\n",
       "        vertical-align: middle;\n",
       "    }\n",
       "\n",
       "    .dataframe tbody tr th {\n",
       "        vertical-align: top;\n",
       "    }\n",
       "\n",
       "    .dataframe thead th {\n",
       "        text-align: right;\n",
       "    }\n",
       "</style>\n",
       "<table border=\"1\" class=\"dataframe\">\n",
       "  <thead>\n",
       "    <tr style=\"text-align: right;\">\n",
       "      <th></th>\n",
       "      <th>customer</th>\n",
       "      <th>state</th>\n",
       "      <th>gender</th>\n",
       "      <th>education</th>\n",
       "      <th>customer_lifetime_value</th>\n",
       "      <th>income</th>\n",
       "      <th>monthly_premium_auto</th>\n",
       "      <th>number_of_open_complaints</th>\n",
       "      <th>policy_type</th>\n",
       "      <th>vehicle_class</th>\n",
       "      <th>total_claim_amount</th>\n",
       "    </tr>\n",
       "  </thead>\n",
       "  <tbody>\n",
       "    <tr>\n",
       "      <th>1</th>\n",
       "      <td>QZ44356</td>\n",
       "      <td>Arizona</td>\n",
       "      <td>F</td>\n",
       "      <td>Bachelor</td>\n",
       "      <td>697953.59</td>\n",
       "      <td>0.0</td>\n",
       "      <td>94.0</td>\n",
       "      <td>0.0</td>\n",
       "      <td>Personal Auto</td>\n",
       "      <td>Four-Door Car</td>\n",
       "      <td>1131.464935</td>\n",
       "    </tr>\n",
       "    <tr>\n",
       "      <th>2</th>\n",
       "      <td>AI49188</td>\n",
       "      <td>Nevada</td>\n",
       "      <td>F</td>\n",
       "      <td>Bachelor</td>\n",
       "      <td>1288743.17</td>\n",
       "      <td>48767.0</td>\n",
       "      <td>108.0</td>\n",
       "      <td>0.0</td>\n",
       "      <td>Personal Auto</td>\n",
       "      <td>Two-Door Car</td>\n",
       "      <td>566.472247</td>\n",
       "    </tr>\n",
       "    <tr>\n",
       "      <th>3</th>\n",
       "      <td>WW63253</td>\n",
       "      <td>California</td>\n",
       "      <td>M</td>\n",
       "      <td>Bachelor</td>\n",
       "      <td>764586.18</td>\n",
       "      <td>0.0</td>\n",
       "      <td>106.0</td>\n",
       "      <td>0.0</td>\n",
       "      <td>Corporate Auto</td>\n",
       "      <td>SUV</td>\n",
       "      <td>529.881344</td>\n",
       "    </tr>\n",
       "    <tr>\n",
       "      <th>4</th>\n",
       "      <td>GA49547</td>\n",
       "      <td>Washington</td>\n",
       "      <td>M</td>\n",
       "      <td>High School or Below</td>\n",
       "      <td>536307.65</td>\n",
       "      <td>36357.0</td>\n",
       "      <td>68.0</td>\n",
       "      <td>0.0</td>\n",
       "      <td>Personal Auto</td>\n",
       "      <td>Four-Door Car</td>\n",
       "      <td>17.269323</td>\n",
       "    </tr>\n",
       "    <tr>\n",
       "      <th>5</th>\n",
       "      <td>OC83172</td>\n",
       "      <td>Oregon</td>\n",
       "      <td>F</td>\n",
       "      <td>Bachelor</td>\n",
       "      <td>825629.78</td>\n",
       "      <td>62902.0</td>\n",
       "      <td>69.0</td>\n",
       "      <td>0.0</td>\n",
       "      <td>Personal Auto</td>\n",
       "      <td>Two-Door Car</td>\n",
       "      <td>159.383042</td>\n",
       "    </tr>\n",
       "    <tr>\n",
       "      <th>...</th>\n",
       "      <td>...</td>\n",
       "      <td>...</td>\n",
       "      <td>...</td>\n",
       "      <td>...</td>\n",
       "      <td>...</td>\n",
       "      <td>...</td>\n",
       "      <td>...</td>\n",
       "      <td>...</td>\n",
       "      <td>...</td>\n",
       "      <td>...</td>\n",
       "      <td>...</td>\n",
       "    </tr>\n",
       "    <tr>\n",
       "      <th>1066</th>\n",
       "      <td>TM65736</td>\n",
       "      <td>Oregon</td>\n",
       "      <td>M</td>\n",
       "      <td>Master</td>\n",
       "      <td>305955.03</td>\n",
       "      <td>38644.0</td>\n",
       "      <td>78.0</td>\n",
       "      <td>1.0</td>\n",
       "      <td>Personal Auto</td>\n",
       "      <td>Four-Door Car</td>\n",
       "      <td>361.455219</td>\n",
       "    </tr>\n",
       "    <tr>\n",
       "      <th>1067</th>\n",
       "      <td>VJ51327</td>\n",
       "      <td>California</td>\n",
       "      <td>F</td>\n",
       "      <td>High School or Below</td>\n",
       "      <td>2031499.76</td>\n",
       "      <td>63209.0</td>\n",
       "      <td>102.0</td>\n",
       "      <td>2.0</td>\n",
       "      <td>Personal Auto</td>\n",
       "      <td>SUV</td>\n",
       "      <td>207.320041</td>\n",
       "    </tr>\n",
       "    <tr>\n",
       "      <th>1068</th>\n",
       "      <td>GS98873</td>\n",
       "      <td>Arizona</td>\n",
       "      <td>F</td>\n",
       "      <td>Bachelor</td>\n",
       "      <td>323912.47</td>\n",
       "      <td>16061.0</td>\n",
       "      <td>88.0</td>\n",
       "      <td>0.0</td>\n",
       "      <td>Personal Auto</td>\n",
       "      <td>Four-Door Car</td>\n",
       "      <td>633.600000</td>\n",
       "    </tr>\n",
       "    <tr>\n",
       "      <th>1069</th>\n",
       "      <td>CW49887</td>\n",
       "      <td>California</td>\n",
       "      <td>F</td>\n",
       "      <td>Master</td>\n",
       "      <td>462680.11</td>\n",
       "      <td>79487.0</td>\n",
       "      <td>114.0</td>\n",
       "      <td>0.0</td>\n",
       "      <td>Special Auto</td>\n",
       "      <td>SUV</td>\n",
       "      <td>547.200000</td>\n",
       "    </tr>\n",
       "    <tr>\n",
       "      <th>1070</th>\n",
       "      <td>MY31220</td>\n",
       "      <td>California</td>\n",
       "      <td>F</td>\n",
       "      <td>College</td>\n",
       "      <td>899704.02</td>\n",
       "      <td>54230.0</td>\n",
       "      <td>112.0</td>\n",
       "      <td>0.0</td>\n",
       "      <td>Personal Auto</td>\n",
       "      <td>Two-Door Car</td>\n",
       "      <td>537.600000</td>\n",
       "    </tr>\n",
       "  </tbody>\n",
       "</table>\n",
       "<p>952 rows × 11 columns</p>\n",
       "</div>"
      ],
      "text/plain": [
       "     customer       state gender             education  \\\n",
       "1     QZ44356     Arizona      F              Bachelor   \n",
       "2     AI49188      Nevada      F              Bachelor   \n",
       "3     WW63253  California      M              Bachelor   \n",
       "4     GA49547  Washington      M  High School or Below   \n",
       "5     OC83172      Oregon      F              Bachelor   \n",
       "...       ...         ...    ...                   ...   \n",
       "1066  TM65736      Oregon      M                Master   \n",
       "1067  VJ51327  California      F  High School or Below   \n",
       "1068  GS98873     Arizona      F              Bachelor   \n",
       "1069  CW49887  California      F                Master   \n",
       "1070  MY31220  California      F               College   \n",
       "\n",
       "      customer_lifetime_value   income  monthly_premium_auto  \\\n",
       "1                   697953.59      0.0                  94.0   \n",
       "2                  1288743.17  48767.0                 108.0   \n",
       "3                   764586.18      0.0                 106.0   \n",
       "4                   536307.65  36357.0                  68.0   \n",
       "5                   825629.78  62902.0                  69.0   \n",
       "...                       ...      ...                   ...   \n",
       "1066                305955.03  38644.0                  78.0   \n",
       "1067               2031499.76  63209.0                 102.0   \n",
       "1068                323912.47  16061.0                  88.0   \n",
       "1069                462680.11  79487.0                 114.0   \n",
       "1070                899704.02  54230.0                 112.0   \n",
       "\n",
       "      number_of_open_complaints     policy_type  vehicle_class  \\\n",
       "1                           0.0   Personal Auto  Four-Door Car   \n",
       "2                           0.0   Personal Auto   Two-Door Car   \n",
       "3                           0.0  Corporate Auto            SUV   \n",
       "4                           0.0   Personal Auto  Four-Door Car   \n",
       "5                           0.0   Personal Auto   Two-Door Car   \n",
       "...                         ...             ...            ...   \n",
       "1066                        1.0   Personal Auto  Four-Door Car   \n",
       "1067                        2.0   Personal Auto            SUV   \n",
       "1068                        0.0   Personal Auto  Four-Door Car   \n",
       "1069                        0.0    Special Auto            SUV   \n",
       "1070                        0.0   Personal Auto   Two-Door Car   \n",
       "\n",
       "      total_claim_amount  \n",
       "1            1131.464935  \n",
       "2             566.472247  \n",
       "3             529.881344  \n",
       "4              17.269323  \n",
       "5             159.383042  \n",
       "...                  ...  \n",
       "1066          361.455219  \n",
       "1067          207.320041  \n",
       "1068          633.600000  \n",
       "1069          547.200000  \n",
       "1070          537.600000  \n",
       "\n",
       "[952 rows x 11 columns]"
      ]
     },
     "execution_count": 3,
     "metadata": {},
     "output_type": "execute_result"
    }
   ],
   "source": [
    "df"
   ]
  },
  {
   "cell_type": "code",
   "execution_count": 11,
   "id": "523f6a69-1816-4bf2-a6cb-73bfd84dd766",
   "metadata": {
    "tags": []
   },
   "outputs": [
    {
     "name": "stdout",
     "output_type": "stream",
     "text": [
      "534.0\n"
     ]
    }
   ],
   "source": [
    "p75_claim = df[\"total_claim_amount\"].quantile(0.75)\n",
    "print(p75_claim)"
   ]
  },
  {
   "cell_type": "code",
   "execution_count": 35,
   "id": "e9100e34-370c-4d4b-8f54-ec55ebb7297f",
   "metadata": {
    "tags": []
   },
   "outputs": [
    {
     "name": "stdout",
     "output_type": "stream",
     "text": [
      "196.72458675\n"
     ]
    }
   ],
   "source": [
    "p25_claim = df[\"total_claim_amount\"].quantile(0.25)\n",
    "print(p25_claim)"
   ]
  },
  {
   "cell_type": "code",
   "execution_count": 45,
   "id": "5f0f632a-c85d-4e0b-b7bb-91b2ac298974",
   "metadata": {
    "tags": []
   },
   "outputs": [
    {
     "data": {
      "text/html": [
       "<div>\n",
       "<style scoped>\n",
       "    .dataframe tbody tr th:only-of-type {\n",
       "        vertical-align: middle;\n",
       "    }\n",
       "\n",
       "    .dataframe tbody tr th {\n",
       "        vertical-align: top;\n",
       "    }\n",
       "\n",
       "    .dataframe thead th {\n",
       "        text-align: right;\n",
       "    }\n",
       "</style>\n",
       "<table border=\"1\" class=\"dataframe\">\n",
       "  <thead>\n",
       "    <tr style=\"text-align: right;\">\n",
       "      <th></th>\n",
       "      <th>index</th>\n",
       "      <th>customer_lifetime_value</th>\n",
       "      <th>income</th>\n",
       "      <th>monthly_premium_auto</th>\n",
       "      <th>number_of_open_complaints</th>\n",
       "      <th>total_claim_amount</th>\n",
       "    </tr>\n",
       "  </thead>\n",
       "  <tbody>\n",
       "    <tr>\n",
       "      <th>count</th>\n",
       "      <td>238.000000</td>\n",
       "      <td>2.380000e+02</td>\n",
       "      <td>238.000000</td>\n",
       "      <td>238.000000</td>\n",
       "      <td>238.000000</td>\n",
       "      <td>238.000000</td>\n",
       "    </tr>\n",
       "    <tr>\n",
       "      <th>mean</th>\n",
       "      <td>590.025210</td>\n",
       "      <td>9.086840e+05</td>\n",
       "      <td>23993.138655</td>\n",
       "      <td>170.995798</td>\n",
       "      <td>0.407563</td>\n",
       "      <td>787.856928</td>\n",
       "    </tr>\n",
       "    <tr>\n",
       "      <th>std</th>\n",
       "      <td>273.485379</td>\n",
       "      <td>6.144211e+05</td>\n",
       "      <td>27470.789482</td>\n",
       "      <td>656.899208</td>\n",
       "      <td>0.949053</td>\n",
       "      <td>304.178729</td>\n",
       "    </tr>\n",
       "    <tr>\n",
       "      <th>min</th>\n",
       "      <td>1.000000</td>\n",
       "      <td>2.287597e+05</td>\n",
       "      <td>0.000000</td>\n",
       "      <td>63.000000</td>\n",
       "      <td>0.000000</td>\n",
       "      <td>537.600000</td>\n",
       "    </tr>\n",
       "    <tr>\n",
       "      <th>25%</th>\n",
       "      <td>383.500000</td>\n",
       "      <td>4.831950e+05</td>\n",
       "      <td>0.000000</td>\n",
       "      <td>99.000000</td>\n",
       "      <td>0.000000</td>\n",
       "      <td>607.183216</td>\n",
       "    </tr>\n",
       "    <tr>\n",
       "      <th>50%</th>\n",
       "      <td>565.500000</td>\n",
       "      <td>7.891276e+05</td>\n",
       "      <td>18807.000000</td>\n",
       "      <td>114.000000</td>\n",
       "      <td>0.000000</td>\n",
       "      <td>678.734433</td>\n",
       "    </tr>\n",
       "    <tr>\n",
       "      <th>75%</th>\n",
       "      <td>821.750000</td>\n",
       "      <td>1.061935e+06</td>\n",
       "      <td>45233.000000</td>\n",
       "      <td>135.000000</td>\n",
       "      <td>0.000000</td>\n",
       "      <td>848.613511</td>\n",
       "    </tr>\n",
       "    <tr>\n",
       "      <th>max</th>\n",
       "      <td>1070.000000</td>\n",
       "      <td>3.844586e+06</td>\n",
       "      <td>99316.000000</td>\n",
       "      <td>10202.000000</td>\n",
       "      <td>5.000000</td>\n",
       "      <td>2893.239678</td>\n",
       "    </tr>\n",
       "  </tbody>\n",
       "</table>\n",
       "</div>"
      ],
      "text/plain": [
       "             index  customer_lifetime_value        income  \\\n",
       "count   238.000000             2.380000e+02    238.000000   \n",
       "mean    590.025210             9.086840e+05  23993.138655   \n",
       "std     273.485379             6.144211e+05  27470.789482   \n",
       "min       1.000000             2.287597e+05      0.000000   \n",
       "25%     383.500000             4.831950e+05      0.000000   \n",
       "50%     565.500000             7.891276e+05  18807.000000   \n",
       "75%     821.750000             1.061935e+06  45233.000000   \n",
       "max    1070.000000             3.844586e+06  99316.000000   \n",
       "\n",
       "       monthly_premium_auto  number_of_open_complaints  total_claim_amount  \n",
       "count            238.000000                 238.000000          238.000000  \n",
       "mean             170.995798                   0.407563          787.856928  \n",
       "std              656.899208                   0.949053          304.178729  \n",
       "min               63.000000                   0.000000          537.600000  \n",
       "25%               99.000000                   0.000000          607.183216  \n",
       "50%              114.000000                   0.000000          678.734433  \n",
       "75%              135.000000                   0.000000          848.613511  \n",
       "max            10202.000000                   5.000000         2893.239678  "
      ]
     },
     "execution_count": 45,
     "metadata": {},
     "output_type": "execute_result"
    }
   ],
   "source": [
    "cust_p75_claim = df[df[\"total_claim_amount\"] > p75_claim].reset_index()\n",
    "cust_p25_claim = df[df[\"total_claim_amount\"] < p25_claim].reset_index()\n",
    "cust_p75_claim.describe()\n"
   ]
  },
  {
   "cell_type": "code",
   "execution_count": 47,
   "id": "7f01331b-6b68-4e34-b044-abaa2ecab9bc",
   "metadata": {
    "tags": []
   },
   "outputs": [
    {
     "data": {
      "text/html": [
       "<div>\n",
       "<style scoped>\n",
       "    .dataframe tbody tr th:only-of-type {\n",
       "        vertical-align: middle;\n",
       "    }\n",
       "\n",
       "    .dataframe tbody tr th {\n",
       "        vertical-align: top;\n",
       "    }\n",
       "\n",
       "    .dataframe thead th {\n",
       "        text-align: right;\n",
       "    }\n",
       "</style>\n",
       "<table border=\"1\" class=\"dataframe\">\n",
       "  <thead>\n",
       "    <tr style=\"text-align: right;\">\n",
       "      <th></th>\n",
       "      <th>index</th>\n",
       "      <th>customer_lifetime_value</th>\n",
       "      <th>income</th>\n",
       "      <th>monthly_premium_auto</th>\n",
       "      <th>number_of_open_complaints</th>\n",
       "      <th>total_claim_amount</th>\n",
       "    </tr>\n",
       "  </thead>\n",
       "  <tbody>\n",
       "    <tr>\n",
       "      <th>count</th>\n",
       "      <td>238.000000</td>\n",
       "      <td>2.380000e+02</td>\n",
       "      <td>238.000000</td>\n",
       "      <td>238.000000</td>\n",
       "      <td>238.000000</td>\n",
       "      <td>238.000000</td>\n",
       "    </tr>\n",
       "    <tr>\n",
       "      <th>mean</th>\n",
       "      <td>583.390756</td>\n",
       "      <td>7.532534e+05</td>\n",
       "      <td>56419.878151</td>\n",
       "      <td>485.915966</td>\n",
       "      <td>0.378151</td>\n",
       "      <td>91.790540</td>\n",
       "    </tr>\n",
       "    <tr>\n",
       "      <th>std</th>\n",
       "      <td>278.313703</td>\n",
       "      <td>6.403075e+05</td>\n",
       "      <td>25324.836921</td>\n",
       "      <td>3320.037890</td>\n",
       "      <td>0.831770</td>\n",
       "      <td>52.486871</td>\n",
       "    </tr>\n",
       "    <tr>\n",
       "      <th>min</th>\n",
       "      <td>4.000000</td>\n",
       "      <td>2.365349e+05</td>\n",
       "      <td>0.000000</td>\n",
       "      <td>61.000000</td>\n",
       "      <td>0.000000</td>\n",
       "      <td>0.382107</td>\n",
       "    </tr>\n",
       "    <tr>\n",
       "      <th>25%</th>\n",
       "      <td>368.250000</td>\n",
       "      <td>2.989398e+05</td>\n",
       "      <td>37042.750000</td>\n",
       "      <td>66.000000</td>\n",
       "      <td>0.000000</td>\n",
       "      <td>49.953307</td>\n",
       "    </tr>\n",
       "    <tr>\n",
       "      <th>50%</th>\n",
       "      <td>604.500000</td>\n",
       "      <td>5.427211e+05</td>\n",
       "      <td>56205.500000</td>\n",
       "      <td>72.000000</td>\n",
       "      <td>0.000000</td>\n",
       "      <td>86.390802</td>\n",
       "    </tr>\n",
       "    <tr>\n",
       "      <th>75%</th>\n",
       "      <td>818.500000</td>\n",
       "      <td>8.583943e+05</td>\n",
       "      <td>76188.500000</td>\n",
       "      <td>97.750000</td>\n",
       "      <td>0.000000</td>\n",
       "      <td>136.819084</td>\n",
       "    </tr>\n",
       "    <tr>\n",
       "      <th>max</th>\n",
       "      <td>1065.000000</td>\n",
       "      <td>3.605754e+06</td>\n",
       "      <td>99790.000000</td>\n",
       "      <td>35354.000000</td>\n",
       "      <td>4.000000</td>\n",
       "      <td>193.570320</td>\n",
       "    </tr>\n",
       "  </tbody>\n",
       "</table>\n",
       "</div>"
      ],
      "text/plain": [
       "             index  customer_lifetime_value        income  \\\n",
       "count   238.000000             2.380000e+02    238.000000   \n",
       "mean    583.390756             7.532534e+05  56419.878151   \n",
       "std     278.313703             6.403075e+05  25324.836921   \n",
       "min       4.000000             2.365349e+05      0.000000   \n",
       "25%     368.250000             2.989398e+05  37042.750000   \n",
       "50%     604.500000             5.427211e+05  56205.500000   \n",
       "75%     818.500000             8.583943e+05  76188.500000   \n",
       "max    1065.000000             3.605754e+06  99790.000000   \n",
       "\n",
       "       monthly_premium_auto  number_of_open_complaints  total_claim_amount  \n",
       "count            238.000000                 238.000000          238.000000  \n",
       "mean             485.915966                   0.378151           91.790540  \n",
       "std             3320.037890                   0.831770           52.486871  \n",
       "min               61.000000                   0.000000            0.382107  \n",
       "25%               66.000000                   0.000000           49.953307  \n",
       "50%               72.000000                   0.000000           86.390802  \n",
       "75%               97.750000                   0.000000          136.819084  \n",
       "max            35354.000000                   4.000000          193.570320  "
      ]
     },
     "execution_count": 47,
     "metadata": {},
     "output_type": "execute_result"
    }
   ],
   "source": [
    "cust_p25_claim.describe()"
   ]
  },
  {
   "cell_type": "code",
   "execution_count": null,
   "id": "8182c6e6-e170-4731-bae6-f31b9f10dee4",
   "metadata": {},
   "outputs": [],
   "source": [
    "#The mean of the 25th percentile is higher than the ones in 75th percentile"
   ]
  }
 ],
 "metadata": {
  "colab": {
   "provenance": []
  },
  "kernelspec": {
   "display_name": "Python 3 (ipykernel)",
   "language": "python",
   "name": "python3"
  },
  "language_info": {
   "codemirror_mode": {
    "name": "ipython",
    "version": 3
   },
   "file_extension": ".py",
   "mimetype": "text/x-python",
   "name": "python",
   "nbconvert_exporter": "python",
   "pygments_lexer": "ipython3",
   "version": "3.11.7"
  }
 },
 "nbformat": 4,
 "nbformat_minor": 5
}
